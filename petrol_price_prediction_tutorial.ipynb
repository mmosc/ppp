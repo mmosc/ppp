{
  "nbformat": 4,
  "nbformat_minor": 0,
  "metadata": {
    "colab": {
      "provenance": [],
      "collapsed_sections": [],
      "authorship_tag": "ABX9TyMfG5WzY4Jtoc3MrRT5RD+k",
      "include_colab_link": true
    },
    "kernelspec": {
      "name": "python3",
      "display_name": "Python 3"
    },
    "language_info": {
      "name": "python"
    }
  },
  "cells": [
    {
      "cell_type": "markdown",
      "metadata": {
        "id": "view-in-github",
        "colab_type": "text"
      },
      "source": [
        "<a href=\"https://colab.research.google.com/github/mmosc/ppp/blob/main/petrol_price_prediction_tutorial.ipynb\" target=\"_parent\"><img src=\"https://colab.research.google.com/assets/colab-badge.svg\" alt=\"Open In Colab\"/></a>"
      ]
    },
    {
      "cell_type": "markdown",
      "source": [
        "# Petrol Price Prediction\n",
        "## Introduction \n",
        "This tutorial is meant to be an introduction on how to use [Facebook Prophet](https://facebook.github.io/prophet/) for forecasting.\n",
        "\n",
        "The tutorial is a follow-up of the project `Peep-peep-peep` developed by Larisa Manciu, Ariona Mahmutaj, ??? ???, and Marta Moscati for the first [Female Coders Hackathon](https://www.meetup.com/female-coders-linz/events/286136444/).\n",
        "\n",
        "Many thanks to the mentors - Magdalena Radinger in particular - for their support in developing the project!\n",
        "\n",
        "## Problem definition \n",
        "\n",
        "We would like to model the evolution of fuel prices.\n",
        "\n",
        "First things first, we need to collect, clean, and organize the data. Luckily for us, the UK government provides data on the evolution of fuel and diesel prices in their country, therefore - and for the sake of simplicity - we will focus on UK for this tutorial. \n",
        "\n",
        "Having a look at [their website](https://www.data.gov.uk/dataset/c174a981-b0f2-4b39-adc0-1d0a27a7d8c9/petrol-and-diesel-prices), we see that prices are recorded weekly from 2003 till today (12 September 2022 at the time of writing and downloading the data), and this is the time-span we will focus on. \n",
        "\n",
        "## Get familiar with the data\n",
        "\n",
        "Hm... at first it looks as if we had to do some crawling, since each week is given in a different file... let's check the links to see what they look like, let's take for instance [30. March 2020](https://www.gov.uk/government/statistics/weekly-road-fuel-prices). \n",
        "\n",
        "Wow, we were luckier than we thought: apparently, this redirects us to a page containing data from ALL years in a single file! Awesome!\n",
        "\n",
        "Let's get the [`.csv`](https://assets.publishing.service.gov.uk/government/uploads/system/uploads/attachment_data/file/1103998/CSV_120922.csv) (because we love `.csv`'s...) and first look at it with Excel, LibreOffice, or a similar [spreadsheet](https://docs.google.com/spreadsheets/d/1XBEkUu4fMXi91S8Z5fb47OGm0S0sz9pc64Vq4c3P2ew/edit?usp=sharing). Make sure to select the comma as separator, if things look horrible (that's what [CSV](https://en.wikipedia.org/wiki/Comma-separated_values) stands for, after all...). \n"
      ],
      "metadata": {
        "id": "-WKBIHSj2OYc"
      }
    }
  ]
}